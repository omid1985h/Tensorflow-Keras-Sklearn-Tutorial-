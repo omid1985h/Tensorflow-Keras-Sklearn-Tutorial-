{
 "cells": [
  {
   "cell_type": "markdown",
   "id": "460f5255",
   "metadata": {},
   "source": [
    "# List Training"
   ]
  },
  {
   "cell_type": "markdown",
   "id": "0e80183d",
   "metadata": {},
   "source": [
    "* Ordered collection of elements (can hold elements of different data types)\n",
    "* Mutable (elements can be modified after creation)\n",
    "\n",
    "#### Creating Lists"
   ]
  },
  {
   "cell_type": "code",
   "execution_count": null,
   "id": "4feda4c3",
   "metadata": {},
   "outputs": [],
   "source": [
    "# Creating a list with mixed data types\n",
    "my_list = [1, 2.5, 'hello', True, [1, 2, 3]]\n",
    "print(my_list)  # Output: [1, 2.5, 'hello', True, [1, 2, 3]]"
   ]
  },
  {
   "cell_type": "markdown",
   "id": "8fd83932",
   "metadata": {},
   "source": [
    "#### Accessing Elements\n",
    "Lists are zero-indexed, meaning the first element is at index 0."
   ]
  },
  {
   "cell_type": "code",
   "execution_count": null,
   "id": "2386d002",
   "metadata": {},
   "outputs": [],
   "source": [
    "my_list = [10, 20, 30, 40, 50]\n",
    "\n",
    "print(my_list[0])  # Accessing the first element (output: 10)\n",
    "print(my_list[-1]) # Accessing the last element (output: 50)\n",
    "print(my_list[1:3]) # Slicing the list (output: [20, 30])"
   ]
  },
  {
   "cell_type": "markdown",
   "id": "88ccb3f0",
   "metadata": {},
   "source": [
    "#### Modifying Lists"
   ]
  },
  {
   "cell_type": "code",
   "execution_count": null,
   "id": "f170ba8b",
   "metadata": {},
   "outputs": [],
   "source": [
    "my_list = [10, 20, 30]\n",
    "my_list[1] = 25   # Changing the value of index 1\n",
    "print(my_list)    # Output: [10, 25, 30]\n",
    "\n",
    "# Adding elements\n",
    "my_list.append(40)      # Adds 40 to the end\n",
    "my_list.insert(1, 15)   # Inserts 15 at index 1\n",
    "print(my_list)          # Output: [10, 15, 25, 30, 40]\n",
    "\n",
    "# Removing elements\n",
    "my_list.remove(25)   # Removes the first occurrence of 25\n",
    "my_list.pop(0)       # Removes the element at index 0 (10)\n",
    "print(my_list)       # Output: [15, 30, 40]"
   ]
  },
  {
   "cell_type": "markdown",
   "id": "98d165fa",
   "metadata": {},
   "source": [
    "#### List Operations\n",
    "* Concatenation: Combining two lists\n",
    "* Repetition: Repeating a list"
   ]
  },
  {
   "cell_type": "code",
   "execution_count": null,
   "id": "f34ba1bd",
   "metadata": {},
   "outputs": [],
   "source": [
    "list1 = [1, 2, 3]\n",
    "list2 = [4, 5, 6]\n",
    "\n",
    "combined = list1 + list2  # Concatenation\n",
    "repeated = list1 * 3      # Repetition\n",
    "\n",
    "print(combined)  # Output: [1, 2, 3, 4, 5, 6]\n",
    "print(repeated)  # Output: [1, 2, 3, 1, 2, 3, 1, 2, 3]"
   ]
  },
  {
   "cell_type": "markdown",
   "id": "bfa56cd2",
   "metadata": {},
   "source": [
    "#### List Comprehensions\n",
    "* List comprehensions provide a concise way to create lists."
   ]
  },
  {
   "cell_type": "code",
   "execution_count": null,
   "id": "c2a30d35",
   "metadata": {},
   "outputs": [],
   "source": [
    "# Example: Square of each element in a list\n",
    "numbers = [1, 2, 3, 4, 5]\n",
    "squares = [x**2 for x in numbers]\n",
    "print(squares)  # Output: [1, 4, 9, 16, 25]\n",
    "\n",
    "# Example: Filtering elements in a list\n",
    "even_numbers = [x for x in numbers if x % 2 == 0]\n",
    "print(even_numbers)  # Output: [2, 4]"
   ]
  },
  {
   "cell_type": "markdown",
   "id": "6dbd26c7",
   "metadata": {},
   "source": [
    "#### Nested Lists\n",
    "A list can contain other lists (2D arrays, for example)."
   ]
  },
  {
   "cell_type": "code",
   "execution_count": null,
   "id": "a2f34ee7",
   "metadata": {},
   "outputs": [],
   "source": [
    "matrix = [\n",
    "    [1, 2, 3],\n",
    "    [4, 5, 6],\n",
    "    [7, 8, 9]\n",
    "]\n",
    "\n",
    "# Accessing elements of a nested list\n",
    "print(matrix[0][1])  # Output: 2 (first row, second column)"
   ]
  },
  {
   "cell_type": "markdown",
   "id": "899494f0",
   "metadata": {},
   "source": [
    "#### List Methods\n",
    "* count(): Returns the number of occurrences of a specific element in a list.\n",
    "* index(): Returns the index of the first occurrence of an element.\n",
    "* sort(): Sorts the list in-place.\n",
    "* reverse(): Reverses the list in-place."
   ]
  },
  {
   "cell_type": "code",
   "execution_count": null,
   "id": "3c920577",
   "metadata": {},
   "outputs": [],
   "source": [
    "numbers = [1, 3, 2, 5, 4, 1]\n",
    "\n",
    "print(numbers.count(1))  # Output: 2\n",
    "print(numbers.index(3))  # Output: 1\n",
    "\n",
    "numbers.sort()           # Sorts in ascending order\n",
    "print(numbers)           # Output: [1, 1, 2, 3, 4, 5]\n",
    "\n",
    "numbers.reverse()        # Reverses the list\n",
    "print(numbers)           # Output: [5, 4, 3, 2, 1, 1]"
   ]
  },
  {
   "cell_type": "markdown",
   "id": "78d91937",
   "metadata": {},
   "source": [
    "* Find the Maximum/Minimum in a List\n",
    "* Summing and Averaging a List\n",
    "* List Flattening (Nested Lists): Flattening a nested list into a single list."
   ]
  },
  {
   "cell_type": "code",
   "execution_count": null,
   "id": "4d821974",
   "metadata": {},
   "outputs": [],
   "source": [
    "numbers = [10, 20, 30, 50, 40]\n",
    "\n",
    "max_value = max(numbers)  # Find the maximum element\n",
    "min_value = min(numbers)  # Find the minimum element\n",
    "\n",
    "print(f\"Max: {max_value}, Min: {min_value}\")  # Output: Max: 50, Min: 10\n",
    "\n",
    "numbers = [1, 2, 3, 4, 5]\n",
    "\n",
    "total = sum(numbers)  # Sum of elements\n",
    "average = total / len(numbers)  # Average of elements\n",
    "\n",
    "print(f\"Total: {total}, Average: {average}\")  # Output: Total: 15, Average: 3.0\n",
    "\n",
    "nested_list = [[1, 2], [3, 4], [5, 6]]\n",
    "flattened = [item for sublist in nested_list for item in sublist]\n",
    "\n",
    "print(flattened)  # Output: [1, 2, 3, 4, 5, 6]\n"
   ]
  },
  {
   "cell_type": "markdown",
   "id": "8139af0f",
   "metadata": {},
   "source": [
    "##### List vs Tuple\n",
    "* Lists are mutable and slower for iteration, while tuples are immutable and faster.\n",
    "* Lists take more memory because of the ability to change their elements."
   ]
  },
  {
   "cell_type": "markdown",
   "id": "1ce6c897",
   "metadata": {},
   "source": [
    "#### Python List Interview Questions and Answers"
   ]
  },
  {
   "cell_type": "code",
   "execution_count": null,
   "id": "0572d309",
   "metadata": {},
   "outputs": [],
   "source": [
    "# Reverse a List Without Using the reverse() Method\n",
    "\n",
    "def reverse_list(lst):\n",
    "    return lst[::-1]\n",
    "\n",
    "# Example Usage\n",
    "my_list = [1, 2, 3, 4, 5]\n",
    "print(reverse_list(my_list))  # Output: [5, 4, 3, 2, 1]"
   ]
  },
  {
   "cell_type": "code",
   "execution_count": null,
   "id": "901f4783",
   "metadata": {},
   "outputs": [],
   "source": [
    "# Find the Missing Number in a List of 1 to N\n",
    "\n",
    "def find_missing_number(lst, n):\n",
    "    expected_sum = n * (n + 1) // 2  # Sum of first n numbers\n",
    "    actual_sum = sum(lst)\n",
    "    return expected_sum - actual_sum\n",
    "\n",
    "# Example Usage\n",
    "numbers = [1, 2, 4, 5, 6]\n",
    "n = 6\n",
    "print(find_missing_number(numbers, n))  # Output: 3"
   ]
  },
  {
   "cell_type": "code",
   "execution_count": null,
   "id": "d6ab0cf8",
   "metadata": {},
   "outputs": [],
   "source": [
    "# Merge Two Lists into One Without Using + Operator\n",
    "\n",
    "def merge_lists(list1, list2):\n",
    "    list1.extend(list2)\n",
    "    return list1\n",
    "\n",
    "# Example Usage\n",
    "list1 = [1, 2, 3]\n",
    "list2 = [4, 5, 6]\n",
    "print(merge_lists(list1, list2))  # Output: [1, 2, 3, 4, 5, 6]"
   ]
  },
  {
   "cell_type": "code",
   "execution_count": null,
   "id": "32bb42d6",
   "metadata": {},
   "outputs": [],
   "source": [
    "# Remove Duplicates from a List\n",
    "\n",
    "def remove_duplicates(lst):\n",
    "    return list(set(lst))\n",
    "\n",
    "# Example Usage\n",
    "numbers = [1, 2, 3, 4, 3, 2, 1]\n",
    "print(remove_duplicates(numbers))  # Output: [1, 2, 3, 4]"
   ]
  },
  {
   "cell_type": "code",
   "execution_count": null,
   "id": "038d52a2",
   "metadata": {},
   "outputs": [],
   "source": [
    "# Find the Second Largest Element in a List\n",
    "\n",
    "def second_largest(lst):\n",
    "    unique_lst = list(set(lst))\n",
    "    unique_lst.sort()\n",
    "    return unique_lst[-2] if len(unique_lst) >= 2 else None\n",
    "\n",
    "# Example Usage\n",
    "numbers = [10, 20, 4, 45, 99, 45]\n",
    "print(second_largest(numbers))  # Output: 45"
   ]
  },
  {
   "cell_type": "code",
   "execution_count": null,
   "id": "9d6c5865",
   "metadata": {},
   "outputs": [],
   "source": [
    "# Check if a List is a Palindrome\n",
    "\n",
    "def is_palindrome(lst):\n",
    "    return lst == lst[::-1]\n",
    "\n",
    "# Example Usage\n",
    "numbers = [1, 2, 3, 2, 1]\n",
    "print(is_palindrome(numbers))  # Output: True"
   ]
  },
  {
   "cell_type": "code",
   "execution_count": null,
   "id": "caa5daf9",
   "metadata": {},
   "outputs": [],
   "source": [
    "# Find the Intersection of Two Lists\n",
    "\n",
    "def intersection(list1, list2):\n",
    "    return list(set(list1) & set(list2))\n",
    "\n",
    "# Example Usage\n",
    "list1 = [1, 2, 3, 4]\n",
    "list2 = [3, 4, 5, 6]\n",
    "print(intersection(list1, list2))  # Output: [3, 4]"
   ]
  },
  {
   "cell_type": "code",
   "execution_count": null,
   "id": "5f692c13",
   "metadata": {},
   "outputs": [],
   "source": [
    "# Find the Frequency of Each Element in a List\n",
    "\n",
    "from collections import Counter\n",
    "\n",
    "def element_frequency(lst):\n",
    "    return dict(Counter(lst))\n",
    "\n",
    "# Example Usage\n",
    "numbers = [1, 2, 2, 3, 3, 3, 4]\n",
    "print(element_frequency(numbers))  # Output: {1: 1, 2: 2, 3: 3, 4: 1}"
   ]
  },
  {
   "cell_type": "code",
   "execution_count": null,
   "id": "ffe6612e",
   "metadata": {},
   "outputs": [],
   "source": []
  }
 ],
 "metadata": {
  "kernelspec": {
   "display_name": "Python 3 (ipykernel)",
   "language": "python",
   "name": "python3"
  },
  "language_info": {
   "codemirror_mode": {
    "name": "ipython",
    "version": 3
   },
   "file_extension": ".py",
   "mimetype": "text/x-python",
   "name": "python",
   "nbconvert_exporter": "python",
   "pygments_lexer": "ipython3",
   "version": "3.11.5"
  }
 },
 "nbformat": 4,
 "nbformat_minor": 5
}
