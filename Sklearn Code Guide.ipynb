{
 "cells": [
  {
   "cell_type": "markdown",
   "id": "bc796acd",
   "metadata": {},
   "source": [
    "# Model Selection"
   ]
  },
  {
   "cell_type": "code",
   "execution_count": null,
   "id": "25cf6d97",
   "metadata": {},
   "outputs": [],
   "source": [
    "from sklearn.model_selection import train_test_split  # Split dataset into training and testing\n",
    "from sklearn.model_selection import cross_val_score  # Evaluate model with cross-validation\n",
    "from sklearn.model_selection import GridSearchCV  # Hyperparameter tuning using grid search\n",
    "from sklearn.model_selection import RandomizedSearchCV  # Randomized hyperparameter search\n",
    "from sklearn.model_selection import StratifiedKFold  # Stratified K-Folds cross-validator\n"
   ]
  },
  {
   "cell_type": "markdown",
   "id": "d48ea171",
   "metadata": {},
   "source": [
    "# Preprocessing"
   ]
  },
  {
   "cell_type": "code",
   "execution_count": null,
   "id": "b81f4a5a",
   "metadata": {},
   "outputs": [],
   "source": [
    "from sklearn.preprocessing import StandardScaler  # Standardization of features\n",
    "from sklearn.preprocessing import MinMaxScaler  # Scaling features to a given range\n",
    "from sklearn.preprocessing import OneHotEncoder  # One-hot encoding for categorical variables\n",
    "from sklearn.preprocessing import LabelEncoder  # Encode labels with value between 0 and n_classes-1\n",
    "from sklearn.preprocessing import PolynomialFeatures  # Feature Engineering: Generate polynomial features\n",
    "from sklearn.preprocessing import FunctionTransformer  # Custom transformations\n",
    "from sklearn.impute import SimpleImputer  # Impute missing values\n",
    "from sklearn.impute import KNNImputer  # K-Nearest Neighbors imputation\n",
    "from sklearn.preprocessing import RobustScaler  # Scales features using statistics that are robust to outliers\n"
   ]
  },
  {
   "cell_type": "markdown",
   "id": "76424ac0",
   "metadata": {},
   "source": [
    "# Feature Selection"
   ]
  },
  {
   "cell_type": "code",
   "execution_count": null,
   "id": "ea30c4c5",
   "metadata": {},
   "outputs": [],
   "source": [
    "from sklearn.feature_selection import SelectKBest  # Select features based on univariate statistical tests\n",
    "from sklearn.feature_selection import RFE  # Recursive feature elimination\n",
    "from sklearn.feature_selection import SelectFromModel  # Select features based on importance from a model\n"
   ]
  },
  {
   "cell_type": "markdown",
   "id": "c69537d8",
   "metadata": {},
   "source": [
    "# Ensemble Methods (Improving accuracy)"
   ]
  },
  {
   "cell_type": "code",
   "execution_count": null,
   "id": "0a2248ac",
   "metadata": {},
   "outputs": [],
   "source": [
    "from sklearn.ensemble import RandomForestClassifier  # Random Forest classifier\n",
    "from sklearn.ensemble import RandomForestRegressor  # Random Forest regressor\n",
    "from sklearn.ensemble import GradientBoostingClassifier  # Gradient boosting classifier\n",
    "from sklearn.ensemble import GradientBoostingRegressor  # Gradient boosting regressor\n",
    "from sklearn.ensemble import AdaBoostClassifier  # AdaBoost classifier\n",
    "from sklearn.ensemble import AdaBoostRegressor  # AdaBoost regressor\n",
    "from sklearn.ensemble import VotingClassifier  # Voting ensemble classifier\n",
    "from sklearn.ensemble import VotingRegressor  # Voting ensemble regressor\n",
    "from sklearn.ensemble import BaggingClassifier  # Ensemble of decision trees\n",
    "\n"
   ]
  },
  {
   "cell_type": "markdown",
   "id": "b27f1214",
   "metadata": {},
   "source": [
    "# Tree-Based Models"
   ]
  },
  {
   "cell_type": "code",
   "execution_count": null,
   "id": "97091ec1",
   "metadata": {},
   "outputs": [],
   "source": [
    "from sklearn.tree import DecisionTreeClassifier  # Decision tree classifier, Control overfitting by adjusting parameters\n",
    "from sklearn.tree import DecisionTreeRegressor  # Decision tree regressor\n",
    "from sklearn.tree import export_graphviz  # Export a decision tree in DOT format\n"
   ]
  },
  {
   "cell_type": "markdown",
   "id": "6ebb9de1",
   "metadata": {},
   "source": [
    "### Addressing overfitting and underfitting:\n",
    "#####  Decision Trees: Set parameters like max_depth, min_samples_split, min_samples_leaf to control tree complexity.\n",
    "\n",
    "##### Early Stopping (in tree-based models): Many libraries (like XGBoost and LightGBM) offer built-in options for early stopping during training based on validation performance."
   ]
  },
  {
   "cell_type": "markdown",
   "id": "bf4e007d",
   "metadata": {},
   "source": [
    "# Linear Models"
   ]
  },
  {
   "cell_type": "code",
   "execution_count": null,
   "id": "5d507415",
   "metadata": {},
   "outputs": [],
   "source": [
    "from sklearn.linear_model import LinearRegression  # Linear regression\n",
    "from sklearn.linear_model import LogisticRegression  # Logistic regression\n",
    "from sklearn.linear_model import Ridge  # Ridge regression- L2 Regularization\n",
    "from sklearn.linear_model import Lasso  # Lasso regression- L1 Regularization\n",
    "from sklearn.linear_model import ElasticNet  # Combination of L1 and L2 regularization\n"
   ]
  },
  {
   "cell_type": "markdown",
   "id": "3ff178a0",
   "metadata": {},
   "source": [
    "# Clustering"
   ]
  },
  {
   "cell_type": "code",
   "execution_count": null,
   "id": "66ab7422",
   "metadata": {},
   "outputs": [],
   "source": [
    "from sklearn.cluster import KMeans  # K-means clustering\n",
    "from sklearn.cluster import DBSCAN  # Density-Based Spatial Clustering\n",
    "from sklearn.cluster import AgglomerativeClustering  # Hierarchical clustering"
   ]
  },
  {
   "cell_type": "markdown",
   "id": "09841110",
   "metadata": {},
   "source": [
    "# Metrics"
   ]
  },
  {
   "cell_type": "code",
   "execution_count": null,
   "id": "23d09b5a",
   "metadata": {},
   "outputs": [],
   "source": [
    "from sklearn.metrics import accuracy_score  # Accuracy classification score\n",
    "from sklearn.metrics import confusion_matrix  # Confusion matrix\n",
    "from sklearn.metrics import classification_report  # Precision, recall, f1-score\n",
    "from sklearn.metrics import mean_squared_error  # Mean squared error\n",
    "from sklearn.metrics import mean_absolute_error  # Mean absolute error\n",
    "from sklearn.metrics import r2_score  # R-squared score\n",
    "from sklearn.metrics import roc_auc_score  # Area under the ROC curve\n",
    "from sklearn.metrics import precision_score  # Precision score\n",
    "from sklearn.metrics import recall_score  # Recall score\n",
    "from sklearn.metrics import f1_score  # F1 score"
   ]
  },
  {
   "cell_type": "markdown",
   "id": "217dc468",
   "metadata": {},
   "source": [
    "# Dimensionality Reduction"
   ]
  },
  {
   "cell_type": "code",
   "execution_count": null,
   "id": "75ee7cd1",
   "metadata": {},
   "outputs": [],
   "source": [
    "from sklearn.decomposition import PCA  # Principal Component Analysis\n",
    "from sklearn.decomposition import NMF  # Non-negative Matrix Factorization\n",
    "from sklearn.manifold import TSNE  # t-distributed Stochastic Neighbor Embedding\n",
    "from sklearn.manifold import MDS  # Multi-dimensional scaling"
   ]
  },
  {
   "cell_type": "markdown",
   "id": "7d47f7fe",
   "metadata": {},
   "source": [
    "# Pipeline and Feature Union"
   ]
  },
  {
   "cell_type": "code",
   "execution_count": null,
   "id": "4333084f",
   "metadata": {},
   "outputs": [],
   "source": [
    "from sklearn.pipeline import Pipeline  # Pipeline for chaining processing steps\n",
    "from sklearn.pipeline import FeatureUnion  # Combine multiple feature extraction methods"
   ]
  },
  {
   "cell_type": "markdown",
   "id": "8d66cb8f",
   "metadata": {},
   "source": [
    "# Other Useful Modules"
   ]
  },
  {
   "cell_type": "code",
   "execution_count": null,
   "id": "af88a5bb",
   "metadata": {},
   "outputs": [],
   "source": [
    "from sklearn.utils import shuffle  # Shuffle datasets\n",
    "from sklearn.utils import resample  # Resample datasets\n",
    "from sklearn.compose import ColumnTransformer  # Apply different preprocessing to different columns\n",
    "from sklearn.compose import TransformedTargetRegressor  # Apply transformation to target"
   ]
  }
 ],
 "metadata": {
  "kernelspec": {
   "display_name": "Python 3 (ipykernel)",
   "language": "python",
   "name": "python3"
  },
  "language_info": {
   "codemirror_mode": {
    "name": "ipython",
    "version": 3
   },
   "file_extension": ".py",
   "mimetype": "text/x-python",
   "name": "python",
   "nbconvert_exporter": "python",
   "pygments_lexer": "ipython3",
   "version": "3.11.5"
  }
 },
 "nbformat": 4,
 "nbformat_minor": 5
}
