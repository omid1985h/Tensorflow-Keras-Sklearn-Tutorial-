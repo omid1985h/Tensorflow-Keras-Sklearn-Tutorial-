{
 "cells": [
  {
   "cell_type": "markdown",
   "id": "8857a26f",
   "metadata": {},
   "source": [
    "* A Python dictionary is an unordered collection of key-value pairs, where the keys are unique and immutable, and the values can be any data type (mutable or immutable). Dictionaries are widely used to store data in key-value pairs, making them particularly useful for looking up data by a known key.\n",
    "\n",
    "# 1. Introduction to Dictionaries in Python\n",
    "\n",
    "## Creating a Dictionary\n",
    "* A dictionary is created using curly braces {} with key-value pairs separated by colons :."
   ]
  },
  {
   "cell_type": "code",
   "execution_count": null,
   "id": "84a27d7a",
   "metadata": {},
   "outputs": [],
   "source": [
    "# Creating a dictionary with various data types for values\n",
    "my_dict = {\n",
    "    'name': 'Alice',\n",
    "    'age': 25,\n",
    "    'is_student': True,\n",
    "    'courses': ['Math', 'Science']\n",
    "}\n",
    "\n",
    "print(my_dict)  # Output: {'name': 'Alice', 'age': 25, 'is_student': True, 'courses': ['Math', 'Science']}"
   ]
  },
  {
   "cell_type": "markdown",
   "id": "5825da04",
   "metadata": {},
   "source": [
    "## Accessing Values in a Dictionary\n",
    "* To access a value, you can use the key inside square brackets []."
   ]
  },
  {
   "cell_type": "code",
   "execution_count": null,
   "id": "0dc91ac6",
   "metadata": {},
   "outputs": [],
   "source": [
    "print(my_dict['name'])  # Output: Alice\n",
    "print(my_dict['age'])   # Output: 25"
   ]
  },
  {
   "cell_type": "markdown",
   "id": "7ec205ad",
   "metadata": {},
   "source": [
    "## Modifying Values\n",
    "* You can modify values in a dictionary by using the key."
   ]
  },
  {
   "cell_type": "code",
   "execution_count": null,
   "id": "47ce98f3",
   "metadata": {},
   "outputs": [],
   "source": [
    "my_dict['age'] = 26  # Changing the value associated with the key 'age'\n",
    "print(my_dict['age'])  # Output: 26"
   ]
  },
  {
   "cell_type": "markdown",
   "id": "8ab67dc4",
   "metadata": {},
   "source": [
    "## Adding Key-Value Pairs\n",
    "* New key-value pairs can be added by simply assigning a value to a new key."
   ]
  },
  {
   "cell_type": "code",
   "execution_count": null,
   "id": "ea7d817a",
   "metadata": {},
   "outputs": [],
   "source": [
    "my_dict['city'] = 'New York'  # Adding a new key-value pair\n",
    "print(my_dict)  # Output: {'name': 'Alice', 'age': 26, 'is_student': True, 'courses': ['Math', 'Science'], 'city': 'New York'}"
   ]
  },
  {
   "cell_type": "markdown",
   "id": "683a9b40",
   "metadata": {},
   "source": [
    "## Removing Key-Value Pairs\n",
    "* Using del: Deletes a key-value pair.\n",
    "* Using pop(): Removes a key-value pair and returns the value.\n",
    "* Using popitem(): Removes and returns the last inserted key-value pair."
   ]
  },
  {
   "cell_type": "code",
   "execution_count": null,
   "id": "509b127c",
   "metadata": {},
   "outputs": [],
   "source": [
    "# Using del\n",
    "del my_dict['city']\n",
    "print(my_dict)  # Output: {'name': 'Alice', 'age': 26, 'is_student': True, 'courses': ['Math', 'Science']}\n",
    "\n",
    "# Using pop\n",
    "age = my_dict.pop('age')\n",
    "print(age)      # Output: 26\n",
    "print(my_dict)  # Output: {'name': 'Alice', 'is_student': True, 'courses': ['Math', 'Science']}\n",
    "\n",
    "# Using popitem\n",
    "last_item = my_dict.popitem()\n",
    "print(last_item)  # Output: ('courses', ['Math', 'Science'])\n",
    "print(my_dict)     # Output: {'name': 'Alice', 'is_student': True}"
   ]
  },
  {
   "cell_type": "markdown",
   "id": "f0af9247",
   "metadata": {},
   "source": [
    "# 2- Dictionary Methods\n",
    "\n",
    "Python dictionaries come with several useful methods that can help with data manipulation.\n",
    "### get() Method\n",
    "Returns the value for the given key if it exists, otherwise returns None or a specified default value."
   ]
  },
  {
   "cell_type": "code",
   "execution_count": null,
   "id": "8119808b",
   "metadata": {},
   "outputs": [],
   "source": [
    "print(my_dict.get('name'))       # Output: Alice\n",
    "print(my_dict.get('age'))        # Output: None (if 'age' doesn't exist)\n",
    "print(my_dict.get('age', 30))    # Output: 30 (default value)"
   ]
  },
  {
   "cell_type": "markdown",
   "id": "44e09fc4",
   "metadata": {},
   "source": [
    "### keys(), values(), items()\n",
    "* keys(): Returns all the keys in a dictionary.\n",
    "* values(): Returns all the values in a dictionary.\n",
    "* items(): Returns all the key-value pairs as tuples."
   ]
  },
  {
   "cell_type": "code",
   "execution_count": null,
   "id": "2478e343",
   "metadata": {},
   "outputs": [],
   "source": [
    "print(my_dict.keys())   # Output: dict_keys(['name', 'is_student'])\n",
    "print(my_dict.values()) # Output: dict_values(['Alice', True])\n",
    "print(my_dict.items())  # Output: dict_items([('name', 'Alice'), ('is_student', True)])"
   ]
  },
  {
   "cell_type": "markdown",
   "id": "19cfc295",
   "metadata": {},
   "source": [
    "### clear() Method\n",
    "Removes all key-value pairs from the dictionary."
   ]
  },
  {
   "cell_type": "code",
   "execution_count": null,
   "id": "a8e63cc3",
   "metadata": {},
   "outputs": [],
   "source": [
    "my_dict.clear()\n",
    "print(my_dict)  # Output: {}"
   ]
  },
  {
   "cell_type": "markdown",
   "id": "0e405d25",
   "metadata": {},
   "source": [
    "# 3. Dictionary Comprehension\n",
    "\n",
    "* Just like list comprehensions, Python supports dictionary comprehensions for creating dictionaries in a single line."
   ]
  },
  {
   "cell_type": "code",
   "execution_count": null,
   "id": "9218230c",
   "metadata": {},
   "outputs": [],
   "source": [
    "# Creating a dictionary of squares\n",
    "squares = {x: x**2 for x in range(5)}\n",
    "print(squares)  # Output: {0: 0, 1: 1, 2: 4, 3: 9, 4: 16}\n",
    "\n",
    "# Filtering items with dictionary comprehension\n",
    "even_squares = {x: x**2 for x in range(5) if x % 2 == 0}\n",
    "print(even_squares)  # Output: {0: 0, 2: 4, 4: 16}"
   ]
  },
  {
   "cell_type": "markdown",
   "id": "b296e5b9",
   "metadata": {},
   "source": [
    "# 4. Nested Dictionaries\n",
    "\n",
    "* Dictionaries can hold other dictionaries as values, allowing you to create complex, hierarchical data structures."
   ]
  },
  {
   "cell_type": "code",
   "execution_count": null,
   "id": "630e4501",
   "metadata": {},
   "outputs": [],
   "source": [
    "nested_dict = {\n",
    "    'student': {\n",
    "        'name': 'John',\n",
    "        'age': 22,\n",
    "        'courses': ['Math', 'Physics']\n",
    "    },\n",
    "    'teacher': {\n",
    "        'name': 'Mr. Smith',\n",
    "        'age': 45,\n",
    "        'subjects': ['Math', 'Science']\n",
    "    }\n",
    "}\n",
    "\n",
    "# Accessing nested dictionary values\n",
    "print(nested_dict['student']['name'])  # Output: John\n",
    "print(nested_dict['teacher']['subjects'])  # Output: ['Math', 'Science']"
   ]
  },
  {
   "cell_type": "markdown",
   "id": "d0ff9a96",
   "metadata": {},
   "source": [
    "# 5. Performance Considerations\n",
    "\n",
    "* Average time complexity of lookups (my_dict[key]), inserts, and deletions in dictionaries is O(1).\n",
    "* Dictionaries use hashing to map keys to values, which is why they are very efficient for lookups and modifications.\n",
    "* Dictionary keys must be immutable (e.g., strings, numbers, tuples), while values can be of any data type (mutable or immutable)."
   ]
  },
  {
   "cell_type": "markdown",
   "id": "19069ed6",
   "metadata": {},
   "source": [
    "# 6. Dictionary Interview Questions and Solutions\n",
    "\n",
    "* Q1. Merge Two Dictionaries\n",
    "* You can merge two dictionaries using the update() method or the {**dict1, **dict2} syntax in Python 3.5+."
   ]
  },
  {
   "cell_type": "code",
   "execution_count": null,
   "id": "b7008650",
   "metadata": {},
   "outputs": [],
   "source": [
    "def merge_dicts(dict1, dict2):\n",
    "    dict1.update(dict2)\n",
    "    return dict1\n",
    "\n",
    "# Example Usage\n",
    "dict1 = {'a': 1, 'b': 2}\n",
    "dict2 = {'c': 3, 'd': 4}\n",
    "print(merge_dicts(dict1, dict2))  # Output: {'a': 1, 'b': 2, 'c': 3, 'd': 4}"
   ]
  },
  {
   "cell_type": "markdown",
   "id": "e35e0b19",
   "metadata": {},
   "source": [
    "* Q2. Count Occurrences of Each Value in a Dictionary\n",
    "* If the dictionary values are iterable, you can count the occurrences of each value."
   ]
  },
  {
   "cell_type": "code",
   "execution_count": null,
   "id": "ed864a06",
   "metadata": {},
   "outputs": [],
   "source": [
    "def count_value_occurrences(dct):\n",
    "    count = {}\n",
    "    for value in dct.values():\n",
    "        count[value] = count.get(value, 0) + 1\n",
    "    return count\n",
    "\n",
    "# Example Usage\n",
    "data = {'a': 1, 'b': 2, 'c': 1, 'd': 2, 'e': 3}\n",
    "print(count_value_occurrences(data))  # Output: {1: 2, 2: 2, 3: 1}"
   ]
  },
  {
   "cell_type": "markdown",
   "id": "86e8ec51",
   "metadata": {},
   "source": [
    "* Q3. Check if a Key Exists in a Dictionary\n",
    "* You can check whether a key exists in a dictionary using in."
   ]
  },
  {
   "cell_type": "code",
   "execution_count": null,
   "id": "8a0163ba",
   "metadata": {},
   "outputs": [],
   "source": [
    "def key_exists(dct, key):\n",
    "    return key in dct\n",
    "\n",
    "# Example Usage\n",
    "data = {'a': 1, 'b': 2, 'c': 3}\n",
    "print(key_exists(data, 'b'))  # Output: True\n",
    "print(key_exists(data, 'd'))  # Output: False"
   ]
  },
  {
   "cell_type": "markdown",
   "id": "fd3c3ff5",
   "metadata": {},
   "source": [
    "* Q4. Create a Dictionary from Two Lists (Keys and Values)\n",
    "* If you have two lists, one representing keys and the other values, you can use zip() to pair them up."
   ]
  },
  {
   "cell_type": "code",
   "execution_count": null,
   "id": "d07b381a",
   "metadata": {},
   "outputs": [],
   "source": [
    "def create_dict(keys, values):\n",
    "    return dict(zip(keys, values))\n",
    "\n",
    "# Example Usage\n",
    "keys = ['a', 'b', 'c']\n",
    "values = [1, 2, 3]\n",
    "print(create_dict(keys, values))  # Output: {'a': 1, 'b': 2, 'c': 3}"
   ]
  },
  {
   "cell_type": "markdown",
   "id": "9e103ddd",
   "metadata": {},
   "source": [
    "* Q5. Flatten a Nested Dictionary\n",
    "* Flattening a nested dictionary means converting a dictionary with nested keys to a single-level dictionary."
   ]
  },
  {
   "cell_type": "code",
   "execution_count": null,
   "id": "33aff2f2",
   "metadata": {},
   "outputs": [],
   "source": [
    "def flatten_dict(dct, parent_key='', sep='_'):\n",
    "    items = []\n",
    "    for k, v in dct.items():\n",
    "        new_key = f'{parent_key}{sep}{k}' if parent_key else k\n",
    "        if isinstance(v, dict):\n",
    "            items.extend(flatten_dict(v, new_key, sep=sep).items())\n",
    "        else:\n",
    "            items.append((new_key, v))\n",
    "    return dict(items)\n",
    "\n",
    "# Example Usage\n",
    "nested_dict = {'a': {'b': 1, 'c': 2}, 'd': 3}\n",
    "print(flatten_dict(nested_dict))  # Output: {'a_b': 1, 'a_c': 2, 'd': 3}"
   ]
  },
  {
   "cell_type": "markdown",
   "id": "db622108",
   "metadata": {},
   "source": [
    "* Q6. Remove a Key from a Dictionary Safely\n",
    "* To safely remove a key from a dictionary, use the pop() method, which prevents errors if the key doesn't exist."
   ]
  },
  {
   "cell_type": "code",
   "execution_count": null,
   "id": "63935c3b",
   "metadata": {},
   "outputs": [],
   "source": [
    "def remove_key(dct, key):\n",
    "    return dct.pop(key, None)  # Returns None if key does not exist\n",
    "\n",
    "# Example Usage\n",
    "data = {'a': 1, 'b': 2, 'c': 3}\n",
    "remove_key(data, 'b')\n",
    "print(data)  # Output: {'a': 1, 'c': 3}"
   ]
  }
 ],
 "metadata": {
  "kernelspec": {
   "display_name": "Python 3 (ipykernel)",
   "language": "python",
   "name": "python3"
  },
  "language_info": {
   "codemirror_mode": {
    "name": "ipython",
    "version": 3
   },
   "file_extension": ".py",
   "mimetype": "text/x-python",
   "name": "python",
   "nbconvert_exporter": "python",
   "pygments_lexer": "ipython3",
   "version": "3.11.5"
  }
 },
 "nbformat": 4,
 "nbformat_minor": 5
}
