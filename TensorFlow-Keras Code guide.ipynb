{
 "cells": [
  {
   "cell_type": "markdown",
   "id": "b3009ddc",
   "metadata": {},
   "source": [
    "## TensorFlow Core Imports"
   ]
  },
  {
   "cell_type": "code",
   "execution_count": null,
   "id": "71d7aea2",
   "metadata": {},
   "outputs": [],
   "source": [
    "import tensorflow as tf  # Main TensorFlow module\n",
    "from tensorflow import keras  # High-level Keras API integrated with TensorFlow"
   ]
  },
  {
   "cell_type": "markdown",
   "id": "0071b9fe",
   "metadata": {},
   "source": [
    "## Keras Layers"
   ]
  },
  {
   "cell_type": "code",
   "execution_count": null,
   "id": "4048bbd8",
   "metadata": {},
   "outputs": [],
   "source": [
    "from tensorflow.keras.layers import Dense  # Fully connected layer\n",
    "from tensorflow.keras.layers import Dropout  # Dropout layer for regularization\n",
    "from tensorflow.keras.layers import Flatten  # Flatten layer to convert multi-dimensional input to 1D\n",
    "from tensorflow.keras.layers import Conv2D  # 2D convolutional layer\n",
    "from tensorflow.keras.layers import MaxPooling2D  # 2D max pooling layer\n",
    "from tensorflow.keras.layers import GlobalAveragePooling2D  # Global average pooling\n",
    "from tensorflow.keras.layers import LSTM  # Long Short-Term Memory layer\n",
    "from tensorflow.keras.layers import Embedding  # Embedding layer for NLP\n",
    "from tensorflow.keras.layers import BatchNormalization  # Batch normalization layer\n",
    "from tensorflow.keras.layers import Activation  # Activation functions (can be used as a layer)"
   ]
  },
  {
   "cell_type": "markdown",
   "id": "b6eb7e19",
   "metadata": {},
   "source": [
    "## Keras Models"
   ]
  },
  {
   "cell_type": "code",
   "execution_count": null,
   "id": "a22f1972",
   "metadata": {},
   "outputs": [],
   "source": [
    "from tensorflow.keras.models import Sequential  # Sequential model for stacking layers linearly\n",
    "from tensorflow.keras.models import Model  # Functional API for building complex models"
   ]
  },
  {
   "cell_type": "markdown",
   "id": "83b0ece1",
   "metadata": {},
   "source": [
    "## Optimizers"
   ]
  },
  {
   "cell_type": "markdown",
   "id": "67bcd54c",
   "metadata": {},
   "source": [
    "#### common optimizers"
   ]
  },
  {
   "cell_type": "code",
   "execution_count": null,
   "id": "f6b25269",
   "metadata": {},
   "outputs": [],
   "source": [
    "from tensorflow.keras.optimizers import Adam  # Adam optimizer\n",
    "from tensorflow.keras.optimizers import SGD  # Stochastic Gradient Descent\n",
    "from tensorflow.keras.optimizers import RMSprop  # RMSprop optimizer\n",
    "from tensorflow.keras.optimizers import Adagrad  # Adagrad optimizer"
   ]
  },
  {
   "cell_type": "markdown",
   "id": "a2e03703",
   "metadata": {},
   "source": [
    "#### Common Loss Functions"
   ]
  },
  {
   "cell_type": "code",
   "execution_count": null,
   "id": "416aecd9",
   "metadata": {},
   "outputs": [],
   "source": [
    "from tensorflow.keras.losses import MeanSquaredError  # Mean squared error\n",
    "from tensorflow.keras.losses import BinaryCrossentropy  # Binary cross-entropy\n",
    "from tensorflow.keras.losses import CategoricalCrossentropy  # Categorical cross-entropy\n",
    "from tensorflow.keras.losses import SparseCategoricalCrossentropy  # Sparse categorical cross-entropy\n"
   ]
  },
  {
   "cell_type": "markdown",
   "id": "01953316",
   "metadata": {},
   "source": [
    "## Metrics"
   ]
  },
  {
   "cell_type": "code",
   "execution_count": null,
   "id": "b6641b41",
   "metadata": {},
   "outputs": [],
   "source": [
    "from tensorflow.keras.metrics import Accuracy  # Accuracy metric\n",
    "from tensorflow.keras.metrics import AUC  # Area Under the Curve metric\n",
    "from tensorflow.keras.metrics import Precision  # Precision metric\n",
    "from tensorflow.keras.metrics import Recall  # Recall metric"
   ]
  },
  {
   "cell_type": "markdown",
   "id": "826bb4a0",
   "metadata": {},
   "source": [
    "## Callbacks"
   ]
  },
  {
   "cell_type": "code",
   "execution_count": null,
   "id": "38936877",
   "metadata": {},
   "outputs": [],
   "source": [
    "from tensorflow.keras.callbacks import EarlyStopping  # Stop training when a monitored metric has stopped improving\n",
    "from tensorflow.keras.callbacks import ModelCheckpoint  # Save model after every epoch\n",
    "from tensorflow.keras.callbacks import ReduceLROnPlateau  # Reduce learning rate when a metric has stopped improving"
   ]
  },
  {
   "cell_type": "markdown",
   "id": "45a82692",
   "metadata": {},
   "source": [
    "## Data Preprocessing"
   ]
  },
  {
   "cell_type": "code",
   "execution_count": null,
   "id": "0b6bd64b",
   "metadata": {},
   "outputs": [],
   "source": [
    "from tensorflow.keras.preprocessing.image import ImageDataGenerator  # Real-time data augmentation\n",
    "from tensorflow.keras.preprocessing.text import Tokenizer  # Tokenize text data\n",
    "from tensorflow.keras.preprocessing.sequence import pad_sequences  # Pad sequences to the same length\n"
   ]
  },
  {
   "cell_type": "markdown",
   "id": "e056c6ad",
   "metadata": {},
   "source": [
    "## Functional API Utilities"
   ]
  },
  {
   "cell_type": "code",
   "execution_count": null,
   "id": "96eb051a",
   "metadata": {},
   "outputs": [],
   "source": [
    "from tensorflow.keras.layers import Input  # Input layer for functional API\n",
    "from tensorflow.keras.layers import Concatenate  # Concatenate layers"
   ]
  },
  {
   "cell_type": "markdown",
   "id": "82ca72a3",
   "metadata": {},
   "source": [
    "## Model Saving and Loading"
   ]
  },
  {
   "cell_type": "code",
   "execution_count": null,
   "id": "8a148248",
   "metadata": {},
   "outputs": [],
   "source": [
    "from tensorflow.keras.models import load_model  # Load a saved model"
   ]
  },
  {
   "cell_type": "markdown",
   "id": "668a045e",
   "metadata": {},
   "source": [
    "## Regularization Techniques"
   ]
  },
  {
   "cell_type": "code",
   "execution_count": null,
   "id": "331af7d9",
   "metadata": {},
   "outputs": [],
   "source": [
    "from tensorflow.keras.layers import Dropout  # Dropout for regularization\n",
    "from tensorflow.keras.regularizers import l2  # L2 regularization\n"
   ]
  },
  {
   "cell_type": "markdown",
   "id": "e07d6367",
   "metadata": {},
   "source": [
    "## Advanced Features- Custom Layers and Models"
   ]
  },
  {
   "cell_type": "code",
   "execution_count": null,
   "id": "14d58438",
   "metadata": {},
   "outputs": [],
   "source": [
    "from tensorflow.keras.layers import Layer  # Base class for custom layers"
   ]
  },
  {
   "cell_type": "markdown",
   "id": "b9941af5",
   "metadata": {},
   "source": [
    "## Advanced Features-Custom Loss Functions and Metrics"
   ]
  },
  {
   "cell_type": "code",
   "execution_count": null,
   "id": "bd765874",
   "metadata": {},
   "outputs": [],
   "source": [
    "from tensorflow.keras import backend as K  # Backend functions for custom loss and metrics"
   ]
  },
  {
   "cell_type": "markdown",
   "id": "75456030",
   "metadata": {},
   "source": [
    "## Utilities"
   ]
  },
  {
   "cell_type": "code",
   "execution_count": null,
   "id": "11f544d0",
   "metadata": {},
   "outputs": [],
   "source": [
    "from tensorflow.keras.utils import to_categorical  # Convert class vectors to binary class matrices\n",
    "from tensorflow.keras.utils import plot_model  # Plot model architecture"
   ]
  }
 ],
 "metadata": {
  "kernelspec": {
   "display_name": "Python 3 (ipykernel)",
   "language": "python",
   "name": "python3"
  },
  "language_info": {
   "codemirror_mode": {
    "name": "ipython",
    "version": 3
   },
   "file_extension": ".py",
   "mimetype": "text/x-python",
   "name": "python",
   "nbconvert_exporter": "python",
   "pygments_lexer": "ipython3",
   "version": "3.11.5"
  }
 },
 "nbformat": 4,
 "nbformat_minor": 5
}
